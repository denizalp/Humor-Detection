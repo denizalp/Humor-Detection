{
  "nbformat": 4,
  "nbformat_minor": 0,
  "metadata": {
    "colab": {
      "name": "baseline_glove.ipynb",
      "version": "0.3.2",
      "provenance": [],
      "collapsed_sections": [],
      "toc_visible": true
    },
    "language_info": {
      "codemirror_mode": {
        "name": "ipython",
        "version": 3
      },
      "file_extension": ".py",
      "mimetype": "text/x-python",
      "name": "python",
      "nbconvert_exporter": "python",
      "pygments_lexer": "ipython3",
      "version": "3.6.0"
    },
    "kernelspec": {
      "name": "python3",
      "display_name": "Python 3"
    },
    "accelerator": "GPU"
  },
  "cells": [
    {
      "metadata": {
        "colab_type": "text",
        "id": "bM_z4FekRe2P"
      },
      "cell_type": "markdown",
      "source": [
        "## Humor Detection"
      ]
    },
    {
      "metadata": {
        "colab_type": "code",
        "id": "3JmMzH0G7Tp4",
        "outputId": "0efdd89e-d37a-4c0a-aa61-1312c023585b",
        "colab": {
          "base_uri": "https://localhost:8080/",
          "height": 122
        }
      },
      "cell_type": "code",
      "source": [
        "from google.colab import drive\n",
        "drive.mount('/gdrive', force_remount = True)"
      ],
      "execution_count": 3,
      "outputs": [
        {
          "output_type": "stream",
          "text": [
            "Go to this URL in a browser: https://accounts.google.com/o/oauth2/auth?client_id=947318989803-6bn6qk8qdgf4n4g3pfee6491hc0brc4i.apps.googleusercontent.com&redirect_uri=urn%3Aietf%3Awg%3Aoauth%3A2.0%3Aoob&scope=email%20https%3A%2F%2Fwww.googleapis.com%2Fauth%2Fdocs.test%20https%3A%2F%2Fwww.googleapis.com%2Fauth%2Fdrive%20https%3A%2F%2Fwww.googleapis.com%2Fauth%2Fdrive.photos.readonly%20https%3A%2F%2Fwww.googleapis.com%2Fauth%2Fpeopleapi.readonly&response_type=code\n",
            "\n",
            "Enter your authorization code:\n",
            "··········\n",
            "Mounted at /gdrive\n"
          ],
          "name": "stdout"
        }
      ]
    },
    {
      "metadata": {
        "id": "lWkniQBEkgP7",
        "colab_type": "code",
        "colab": {}
      },
      "cell_type": "code",
      "source": [
        "# required imports\n",
        "import numpy as np\n",
        "import pandas as pd\n",
        "import matplotlib.pyplot as plt\n",
        "from keras.preprocessing.text import Tokenizer\n",
        "from keras.preprocessing.sequence import pad_sequences\n",
        "from keras.models import Sequential\n",
        "from keras.layers import Embedding,Flatten,Dense,Dropout,SimpleRNN,LSTM,Conv1D,MaxPooling1D,GlobalMaxPooling1D,GRU\n",
        "from keras.optimizers import RMSprop\n",
        "from keras import backend as K"
      ],
      "execution_count": 0,
      "outputs": []
    },
    {
      "metadata": {
        "colab_type": "code",
        "id": "ZDGqyNsW7cne",
        "colab": {
          "base_uri": "https://localhost:8080/",
          "height": 34
        },
        "outputId": "a97597f5-b48b-464d-9932-3fd06d0f6efc"
      },
      "cell_type": "code",
      "source": [
        "import random\n",
        "\n",
        "humor = open('/content/funny_glove.txt','r').read().split('\\n')\n",
        "not_humor = open('/content/notfunny_glove.txt','r').read().split('\\n')\n",
        "\n",
        "random.shuffle(humor)\n",
        "random.shuffle(not_humor)\n",
        "\n",
        "# take a sample\n",
        "humor_ = humor\n",
        "not_humor_ = not_humor\n",
        "\n",
        "print(\"HUMOR:\", len(humor_),\"NOT HUMOR:\", len(not_humor_))"
      ],
      "execution_count": 8,
      "outputs": [
        {
          "output_type": "stream",
          "text": [
            "HUMOR: 25000 NOT HUMOR: 25000\n"
          ],
          "name": "stdout"
        }
      ]
    },
    {
      "metadata": {
        "id": "9vnGqUm5CpwA",
        "colab_type": "code",
        "colab": {}
      },
      "cell_type": "code",
      "source": [
        "import string\n",
        "\n",
        "# preprocess data and remove various things...\n",
        "\n",
        "def clean(review):\n",
        "    return review.replace('\\\\n',' ')"
      ],
      "execution_count": 0,
      "outputs": []
    },
    {
      "metadata": {
        "id": "vgwANlp1Khlj",
        "colab_type": "code",
        "colab": {}
      },
      "cell_type": "code",
      "source": [
        "for i in range(25000):\n",
        "    humor_[i] = clean(humor_[i])\n",
        "    not_humor_[i] = clean(not_humor_[i])"
      ],
      "execution_count": 0,
      "outputs": []
    },
    {
      "metadata": {
        "id": "9Qaphhnm2w7p",
        "colab_type": "code",
        "colab": {}
      },
      "cell_type": "code",
      "source": [
        ""
      ],
      "execution_count": 0,
      "outputs": []
    },
    {
      "metadata": {
        "colab_type": "text",
        "id": "87fsFVdkTGyl"
      },
      "cell_type": "markdown",
      "source": [
        "## Preprocessing"
      ]
    },
    {
      "metadata": {
        "colab_type": "code",
        "id": "acIkiIzKSjhT",
        "outputId": "47655a49-be09-454a-ec07-6e17d84b551b",
        "colab": {
          "base_uri": "https://localhost:8080/",
          "height": 68
        }
      },
      "cell_type": "code",
      "source": [
        "import numpy as np\n",
        "\n",
        "texts = []\n",
        "labels = []\n",
        "\n",
        "np.random.shuffle(humor_)\n",
        "np.random.shuffle(not_humor_)\n",
        "\n",
        "\n",
        "for line in humor_:\n",
        "    texts.append(line)\n",
        "    labels.append(1)\n",
        "\n",
        "for line in not_humor_:\n",
        "    texts.append(line)\n",
        "    labels.append(0)\n",
        "\n",
        "print('Funny', len(humor_))    \n",
        "print(\"Not Funny\",len(not_humor_))  \n",
        "print(\"Total\", len(texts))"
      ],
      "execution_count": 12,
      "outputs": [
        {
          "output_type": "stream",
          "text": [
            "Funny 25000\n",
            "Not Funny 25000\n",
            "Total 50000\n"
          ],
          "name": "stdout"
        }
      ]
    },
    {
      "metadata": {
        "colab_type": "code",
        "id": "8QqW-QwDXso8",
        "outputId": "3837e2ac-c172-4b1d-bb89-9d5a4425ad58",
        "colab": {
          "base_uri": "https://localhost:8080/",
          "height": 68
        }
      },
      "cell_type": "code",
      "source": [
        "from keras.preprocessing.text import Tokenizer\n",
        "from keras.preprocessing.sequence import pad_sequences\n",
        "\n",
        "# Tokenizing words\n",
        "\n",
        "# max word length\n",
        "maxlen = 500\n",
        "# take top 20k words only\n",
        "max_words = 20000\n",
        "\n",
        "tokenizer = Tokenizer(num_words=max_words)\n",
        "tokenizer.fit_on_texts(texts)\n",
        "\n",
        "sequences = tokenizer.texts_to_sequences(texts)\n",
        "word_index = tokenizer.word_index\n",
        "\n",
        "print('Found %s unique tokens'%len(word_index))\n",
        "\n",
        "# padding the sequences\n",
        "data = pad_sequences(sequences, maxlen=maxlen)\n",
        "\n",
        "labels = np.array(labels)\n",
        "\n",
        "print('Shape of data tensor:', data.shape)\n",
        "print('Shape of labels tensor:', labels.shape)\n",
        "\n",
        "# shuffle the data\n",
        "indices = np.arange(data.shape[0])\n",
        "np.random.shuffle(indices)\n",
        "data = data[indices]\n",
        "labels = labels[indices]"
      ],
      "execution_count": 13,
      "outputs": [
        {
          "output_type": "stream",
          "text": [
            "Found 79130 unique tokens\n",
            "Shape of data tensor: (50000, 500)\n",
            "Shape of labels tensor: (50000,)\n"
          ],
          "name": "stdout"
        }
      ]
    },
    {
      "metadata": {
        "colab_type": "text",
        "id": "SkTxLGUIjfCT"
      },
      "cell_type": "markdown",
      "source": [
        "## Loading the pre-trained word embeddings"
      ]
    },
    {
      "metadata": {
        "colab_type": "code",
        "id": "7PJQZ5X7b2ob",
        "outputId": "6e175f77-3c87-438e-c278-186f891b0fbc",
        "colab": {
          "base_uri": "https://localhost:8080/",
          "height": 204
        }
      },
      "cell_type": "code",
      "source": [
        "# we would use stanford's GloVe pre-trained word embeddings\n",
        "# download the GloVe word embeddings\n",
        "!wget https://nlp.stanford.edu/data/glove.6B.zip"
      ],
      "execution_count": 16,
      "outputs": [
        {
          "output_type": "stream",
          "text": [
            "--2019-04-25 01:03:18--  https://nlp.stanford.edu/data/glove.6B.zip\n",
            "Resolving nlp.stanford.edu (nlp.stanford.edu)... 171.64.67.140\n",
            "Connecting to nlp.stanford.edu (nlp.stanford.edu)|171.64.67.140|:443... connected.\n",
            "HTTP request sent, awaiting response... 200 OK\n",
            "Length: 862182613 (822M) [application/zip]\n",
            "Saving to: ‘glove.6B.zip.1’\n",
            "\n",
            "glove.6B.zip.1      100%[===================>] 822.24M  2.59MB/s    in 7m 46s  \n",
            "\n",
            "2019-04-25 01:11:04 (1.76 MB/s) - ‘glove.6B.zip.1’ saved [862182613/862182613]\n",
            "\n"
          ],
          "name": "stdout"
        }
      ]
    },
    {
      "metadata": {
        "colab_type": "code",
        "id": "S0Lz9kozd8pi",
        "outputId": "24e36570-65c7-4420-faaa-dfaecce50b71",
        "colab": {
          "base_uri": "https://localhost:8080/",
          "height": 102
        }
      },
      "cell_type": "code",
      "source": [
        "!unzip /content/glove.6B.zip.1"
      ],
      "execution_count": 19,
      "outputs": [
        {
          "output_type": "stream",
          "text": [
            "Archive:  /content/glove.6B.zip.1\n",
            "  inflating: glove.6B.50d.txt        \n",
            "  inflating: glove.6B.100d.txt       \n",
            "  inflating: glove.6B.200d.txt       \n",
            "  inflating: glove.6B.300d.txt       \n"
          ],
          "name": "stdout"
        }
      ]
    },
    {
      "metadata": {
        "id": "IzSDnsw7DLLi",
        "colab_type": "code",
        "colab": {
          "base_uri": "https://localhost:8080/",
          "height": 136
        },
        "outputId": "e38fc12b-2f88-442a-82c6-b60c9e9e935f"
      },
      "cell_type": "code",
      "source": [
        ""
      ],
      "execution_count": 20,
      "outputs": [
        {
          "output_type": "stream",
          "text": [
            "Archive:  /content/glove.42B.300d.zip\n",
            "  End-of-central-directory signature not found.  Either this file is not\n",
            "  a zipfile, or it constitutes one disk of a multi-part archive.  In the\n",
            "  latter case the central directory and zipfile comment will be found on\n",
            "  the last disk(s) of this archive.\n",
            "unzip:  cannot find zipfile directory in one of /content/glove.42B.300d.zip or\n",
            "        /content/glove.42B.300d.zip.zip, and cannot find /content/glove.42B.300d.zip.ZIP, period.\n"
          ],
          "name": "stdout"
        }
      ]
    },
    {
      "metadata": {
        "colab_type": "code",
        "id": "BMfHQTVufJ_Q",
        "outputId": "a9a18bde-1f3d-4a5f-8dde-8acca471ea19",
        "colab": {
          "base_uri": "https://localhost:8080/",
          "height": 34
        }
      },
      "cell_type": "code",
      "source": [
        "# parsing the GloVe word-embeddings file\n",
        "embeddings_index = {}\n",
        "\n",
        "f = open('glove.6B.300d.txt')\n",
        "for line in f:\n",
        "    values = line.split()\n",
        "    word = values[0]\n",
        "    coeffs = np.asarray(values[1:], dtype='float32')\n",
        "    embeddings_index[word] = coeffs\n",
        "f.close()\n",
        "\n",
        "print(len(embeddings_index))"
      ],
      "execution_count": 21,
      "outputs": [
        {
          "output_type": "stream",
          "text": [
            "400000\n"
          ],
          "name": "stdout"
        }
      ]
    },
    {
      "metadata": {
        "id": "jPgKQDQZMdvM",
        "colab_type": "code",
        "colab": {}
      },
      "cell_type": "code",
      "source": [
        ""
      ],
      "execution_count": 0,
      "outputs": []
    },
    {
      "metadata": {
        "colab_type": "code",
        "id": "1NOxd1l-gWab",
        "colab": {}
      },
      "cell_type": "code",
      "source": [
        "# preparing glove word embeddings matrix\n",
        "embedding_dim = 300\n",
        "\n",
        "embedding_matrix = np.zeros((max_words, embedding_dim))\n",
        "for word, i in word_index.items():\n",
        "    if i<max_words:\n",
        "        embedding_vector = embeddings_index.get(word)\n",
        "        if embedding_vector is not None:\n",
        "            embedding_matrix[i] = embedding_vector # for words not in embedding index values will be zeros"
      ],
      "execution_count": 0,
      "outputs": []
    },
    {
      "metadata": {
        "id": "Zpo5MI3vHCvx",
        "colab_type": "code",
        "colab": {}
      },
      "cell_type": "code",
      "source": [
        ""
      ],
      "execution_count": 0,
      "outputs": []
    },
    {
      "metadata": {
        "colab_type": "text",
        "id": "wTALqn1ajpIc"
      },
      "cell_type": "markdown",
      "source": [
        "## Building the model"
      ]
    },
    {
      "metadata": {
        "colab_type": "text",
        "id": "q-DSOWs8j1v7"
      },
      "cell_type": "markdown",
      "source": [
        "### 1. Simple feed-forward network with dense layers on top of embedding layer --- using GloVe pre-trained word embeddings"
      ]
    },
    {
      "metadata": {
        "colab_type": "code",
        "id": "6joc1J_6jOjo",
        "outputId": "ddb7b38e-2912-4d60-a46f-61bd8bbf40d3",
        "colab": {
          "base_uri": "https://localhost:8080/",
          "height": 306
        }
      },
      "cell_type": "code",
      "source": [
        "from keras.models import Sequential\n",
        "from keras.layers import Embedding, Flatten, Dense, Dropout\n",
        "from keras.optimizers import RMSprop\n",
        "\n",
        "\n",
        "model = Sequential()\n",
        "model.add(Embedding(max_words, embedding_dim, input_length=maxlen))\n",
        "model.add(Flatten())\n",
        "\n",
        "model.add(Dense(64, activation='relu'))\n",
        "model.add(Dropout(0.3))\n",
        "\n",
        "model.add(Dense(1, activation='sigmoid'))\n",
        "model.summary()"
      ],
      "execution_count": 69,
      "outputs": [
        {
          "output_type": "stream",
          "text": [
            "_________________________________________________________________\n",
            "Layer (type)                 Output Shape              Param #   \n",
            "=================================================================\n",
            "embedding_14 (Embedding)     (None, 500, 300)          6000000   \n",
            "_________________________________________________________________\n",
            "flatten_14 (Flatten)         (None, 150000)            0         \n",
            "_________________________________________________________________\n",
            "dense_27 (Dense)             (None, 64)                9600064   \n",
            "_________________________________________________________________\n",
            "dropout_14 (Dropout)         (None, 64)                0         \n",
            "_________________________________________________________________\n",
            "dense_28 (Dense)             (None, 1)                 65        \n",
            "=================================================================\n",
            "Total params: 15,600,129\n",
            "Trainable params: 15,600,129\n",
            "Non-trainable params: 0\n",
            "_________________________________________________________________\n"
          ],
          "name": "stdout"
        }
      ]
    },
    {
      "metadata": {
        "colab_type": "text",
        "id": "p9Ufn334Heno"
      },
      "cell_type": "markdown",
      "source": [
        "### Load the pre-trained word embeddings into the embedding layer and freeze it"
      ]
    },
    {
      "metadata": {
        "colab_type": "code",
        "id": "hYhx_OWXmlui",
        "colab": {}
      },
      "cell_type": "code",
      "source": [
        "model.layers[0].set_weights([embedding_matrix])\n",
        "model.layers[0].trainable = False"
      ],
      "execution_count": 0,
      "outputs": []
    },
    {
      "metadata": {
        "colab_type": "code",
        "id": "DWf4ExBpnFmM",
        "colab": {
          "base_uri": "https://localhost:8080/",
          "height": 904
        },
        "outputId": "9058a0d5-4ca2-4fe8-cd36-e986c42a8b85"
      },
      "cell_type": "code",
      "source": [
        "# train the model\n",
        "model.compile(optimizer=RMSprop(lr=1e-6), loss='binary_crossentropy', metrics = ['acc'])\n",
        "history = model.fit(data, labels, epochs=25, batch_size=32, validation_split=0.50)"
      ],
      "execution_count": 71,
      "outputs": [
        {
          "output_type": "stream",
          "text": [
            "Train on 25000 samples, validate on 25000 samples\n",
            "Epoch 1/25\n",
            "25000/25000 [==============================] - 9s 358us/step - loss: 0.6216 - acc: 0.6747 - val_loss: 0.6036 - val_acc: 0.7010\n",
            "Epoch 2/25\n",
            "25000/25000 [==============================] - 8s 302us/step - loss: 0.5870 - acc: 0.7102 - val_loss: 0.5902 - val_acc: 0.7038\n",
            "Epoch 3/25\n",
            "25000/25000 [==============================] - 7s 294us/step - loss: 0.5721 - acc: 0.7165 - val_loss: 0.5855 - val_acc: 0.7060\n",
            "Epoch 4/25\n",
            "25000/25000 [==============================] - 7s 293us/step - loss: 0.5621 - acc: 0.7189 - val_loss: 0.5808 - val_acc: 0.7072\n",
            "Epoch 5/25\n",
            "25000/25000 [==============================] - 7s 293us/step - loss: 0.5541 - acc: 0.7238 - val_loss: 0.5777 - val_acc: 0.7094\n",
            "Epoch 6/25\n",
            "25000/25000 [==============================] - 7s 294us/step - loss: 0.5450 - acc: 0.7278 - val_loss: 0.5745 - val_acc: 0.7106\n",
            "Epoch 7/25\n",
            "25000/25000 [==============================] - 7s 294us/step - loss: 0.5387 - acc: 0.7297 - val_loss: 0.5729 - val_acc: 0.7118\n",
            "Epoch 8/25\n",
            "25000/25000 [==============================] - 7s 293us/step - loss: 0.5314 - acc: 0.7368 - val_loss: 0.5709 - val_acc: 0.7134\n",
            "Epoch 9/25\n",
            "25000/25000 [==============================] - 7s 294us/step - loss: 0.5231 - acc: 0.7409 - val_loss: 0.5704 - val_acc: 0.7146\n",
            "Epoch 10/25\n",
            "25000/25000 [==============================] - 7s 295us/step - loss: 0.5162 - acc: 0.7449 - val_loss: 0.5685 - val_acc: 0.7154\n",
            "Epoch 11/25\n",
            "25000/25000 [==============================] - 7s 295us/step - loss: 0.5105 - acc: 0.7489 - val_loss: 0.5668 - val_acc: 0.7165\n",
            "Epoch 12/25\n",
            "25000/25000 [==============================] - 8s 309us/step - loss: 0.5034 - acc: 0.7543 - val_loss: 0.5658 - val_acc: 0.7180\n",
            "Epoch 13/25\n",
            "25000/25000 [==============================] - 7s 300us/step - loss: 0.4982 - acc: 0.7572 - val_loss: 0.5644 - val_acc: 0.7192\n",
            "Epoch 14/25\n",
            "25000/25000 [==============================] - 7s 294us/step - loss: 0.4926 - acc: 0.7598 - val_loss: 0.5635 - val_acc: 0.7205\n",
            "Epoch 15/25\n",
            "25000/25000 [==============================] - 7s 295us/step - loss: 0.4858 - acc: 0.7677 - val_loss: 0.5627 - val_acc: 0.7213\n",
            "Epoch 16/25\n",
            "25000/25000 [==============================] - 7s 293us/step - loss: 0.4806 - acc: 0.7699 - val_loss: 0.5632 - val_acc: 0.7222\n",
            "Epoch 17/25\n",
            "25000/25000 [==============================] - 7s 293us/step - loss: 0.4752 - acc: 0.7737 - val_loss: 0.5621 - val_acc: 0.7224\n",
            "Epoch 18/25\n",
            "25000/25000 [==============================] - 7s 293us/step - loss: 0.4701 - acc: 0.7769 - val_loss: 0.5614 - val_acc: 0.7239\n",
            "Epoch 19/25\n",
            "25000/25000 [==============================] - 7s 294us/step - loss: 0.4662 - acc: 0.7816 - val_loss: 0.5622 - val_acc: 0.7247\n",
            "Epoch 20/25\n",
            "25000/25000 [==============================] - 7s 295us/step - loss: 0.4601 - acc: 0.7834 - val_loss: 0.5618 - val_acc: 0.7242\n",
            "Epoch 21/25\n",
            "25000/25000 [==============================] - 7s 293us/step - loss: 0.4552 - acc: 0.7877 - val_loss: 0.5607 - val_acc: 0.7242\n",
            "Epoch 22/25\n",
            "25000/25000 [==============================] - 7s 293us/step - loss: 0.4513 - acc: 0.7913 - val_loss: 0.5620 - val_acc: 0.7249\n",
            "Epoch 23/25\n",
            "25000/25000 [==============================] - 8s 309us/step - loss: 0.4467 - acc: 0.7950 - val_loss: 0.5607 - val_acc: 0.7246\n",
            "Epoch 24/25\n",
            "25000/25000 [==============================] - 7s 298us/step - loss: 0.4420 - acc: 0.7982 - val_loss: 0.5612 - val_acc: 0.7252\n",
            "Epoch 25/25\n",
            "25000/25000 [==============================] - 7s 293us/step - loss: 0.4376 - acc: 0.8014 - val_loss: 0.5623 - val_acc: 0.7259\n"
          ],
          "name": "stdout"
        }
      ]
    },
    {
      "metadata": {
        "id": "-ZjYyVuvJxPo",
        "colab_type": "code",
        "colab": {}
      },
      "cell_type": "code",
      "source": [
        ""
      ],
      "execution_count": 0,
      "outputs": []
    },
    {
      "metadata": {
        "id": "RBXIPIw9J4aT",
        "colab_type": "code",
        "outputId": "dcd874a7-cf9c-4140-b219-ceb879c7841e",
        "colab": {
          "base_uri": "https://localhost:8080/",
          "height": 34
        }
      },
      "cell_type": "code",
      "source": [
        ""
      ],
      "execution_count": 0,
      "outputs": [
        {
          "output_type": "execute_result",
          "data": {
            "text/plain": [
              "(50,)"
            ]
          },
          "metadata": {
            "tags": []
          },
          "execution_count": 46
        }
      ]
    },
    {
      "metadata": {
        "colab_type": "code",
        "id": "gggQJYaPn2kP",
        "colab": {
          "base_uri": "https://localhost:8080/",
          "height": 545
        },
        "outputId": "f0eceb65-52c8-43e7-c512-1fbb80b8a24c"
      },
      "cell_type": "code",
      "source": [
        "# plotting the results\n",
        "\n",
        "import matplotlib.pyplot as plt\n",
        "%matplotlib inline\n",
        "\n",
        "def plot_result(history):\n",
        "  acc = history.history['acc']\n",
        "  val_acc = history.history['val_acc']\n",
        "  loss = history.history['loss']\n",
        "  val_loss = history.history['val_loss']\n",
        "\n",
        "  epochs = range(1, len(acc)+1)\n",
        "\n",
        "  plt.plot(epochs, acc, label='Training acc')\n",
        "  plt.plot(epochs, val_acc, label='Validation acc')\n",
        "  plt.title('Training and validation accuracy')\n",
        "  plt.legend()\n",
        "\n",
        "  plt.figure()\n",
        "\n",
        "  plt.plot(epochs, loss, label='Training loss')\n",
        "  plt.plot(epochs, val_loss, label='Validation loss')\n",
        "  plt.title('Training and validation loss')\n",
        "  plt.legend()\n",
        "\n",
        "  plt.show()\n",
        "\n",
        "plot_result(history)"
      ],
      "execution_count": 68,
      "outputs": [
        {
          "output_type": "display_data",
          "data": {
            "image/png": "[encoded data removed]",
            "text/plain": [
              "<Figure size 432x288 with 1 Axes>"
            ]
          },
          "metadata": {
            "tags": []
          }
        },
        {
          "output_type": "display_data",
          "data": {
            "image/png": "[encoded data removed]",
            "text/plain": [
              "<Figure size 432x288 with 1 Axes>"
            ]
          },
          "metadata": {
            "tags": []
          }
        }
      ]
    },
    {
      "metadata": {
        "colab_type": "code",
        "id": "4548aAu_Y51p",
        "colab": {}
      },
      "cell_type": "code",
      "source": [
        ""
      ],
      "execution_count": 0,
      "outputs": []
    }
  ]
}