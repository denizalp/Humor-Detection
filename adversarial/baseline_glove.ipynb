{
  "nbformat": 4,
  "nbformat_minor": 0,
  "metadata": {
    "colab": {
      "name": "humor_detection.ipynb",
      "version": "0.3.2",
      "provenance": [],
      "collapsed_sections": [],
      "toc_visible": true
    },
    "kernelspec": {
      "name": "python3",
      "display_name": "Python 3"
    }
  },
  "cells": [
    {
      "metadata": {
        "id": "bM_z4FekRe2P",
        "colab_type": "text"
      },
      "cell_type": "markdown",
      "source": [
        "## Humor Detection"
      ]
    },
    {
      "metadata": {
        "id": "3JmMzH0G7Tp4",
        "colab_type": "code",
        "outputId": "edb80e69-d971-4720-ca48-beaf3ff6b727",
        "colab": {
          "base_uri": "https://localhost:8080/",
          "height": 122
        }
      },
      "cell_type": "code",
      "source": [
        "from google.colab import drive\n",
        "drive.mount('/gdrive', force_remount = True)"
      ],
      "execution_count": 0,
      "outputs": [
        {
          "output_type": "stream",
          "text": [
            "Go to this URL in a browser: https://accounts.google.com/o/oauth2/auth?client_id=947318989803-6bn6qk8qdgf4n4g3pfee6491hc0brc4i.apps.googleusercontent.com&redirect_uri=urn%3Aietf%3Awg%3Aoauth%3A2.0%3Aoob&scope=email%20https%3A%2F%2Fwww.googleapis.com%2Fauth%2Fdocs.test%20https%3A%2F%2Fwww.googleapis.com%2Fauth%2Fdrive%20https%3A%2F%2Fwww.googleapis.com%2Fauth%2Fdrive.photos.readonly%20https%3A%2F%2Fwww.googleapis.com%2Fauth%2Fpeopleapi.readonly&response_type=code\n",
            "\n",
            "Enter your authorization code:\n",
            "··········\n",
            "Mounted at /gdrive\n"
          ],
          "name": "stdout"
        }
      ]
    },
    {
      "metadata": {
        "id": "ZDGqyNsW7cne",
        "colab_type": "code",
        "colab": {}
      },
      "cell_type": "code",
      "source": [
        "humour = open('funny2.txt','r').read().split('\\n')\n",
        "neg = open('not_funny2_trunc.txt','r').read().split('\\n')"
      ],
      "execution_count": 0,
      "outputs": []
    },
    {
      "metadata": {
        "id": "87fsFVdkTGyl",
        "colab_type": "text"
      },
      "cell_type": "markdown",
      "source": [
        "## Preprocessing"
      ]
    },
    {
      "metadata": {
        "id": "acIkiIzKSjhT",
        "colab_type": "code",
        "outputId": "80a3ac0d-de20-4494-8975-7d651401d77b",
        "colab": {
          "base_uri": "https://localhost:8080/",
          "height": 68
        }
      },
      "cell_type": "code",
      "source": [
        "import numpy as np\n",
        "\n",
        "texts = []\n",
        "labels = []\n",
        "\n",
        "np.random.shuffle(neg)\n",
        "\n",
        "\n",
        "for line in humour:\n",
        "    texts.append(line)\n",
        "    labels.append(1)\n",
        "\n",
        "for line in neg:\n",
        "    texts.append(line)\n",
        "    labels.append(0)\n",
        "\n",
        "print('Funny', len(humour))    \n",
        "print(\"Not Funny\",len(neg))  \n",
        "print(\"Total\", len(texts))"
      ],
      "execution_count": 75,
      "outputs": [
        {
          "output_type": "stream",
          "text": [
            "Funny 7785\n",
            "Not Funny 7785\n",
            "Total 15570\n"
          ],
          "name": "stdout"
        }
      ]
    },
    {
      "metadata": {
        "id": "8QqW-QwDXso8",
        "colab_type": "code",
        "outputId": "58bfc908-bad5-452b-a024-de3e2588a3a1",
        "colab": {
          "base_uri": "https://localhost:8080/",
          "height": 68
        }
      },
      "cell_type": "code",
      "source": [
        "from keras.preprocessing.text import Tokenizer\n",
        "from keras.preprocessing.sequence import pad_sequences\n",
        "\n",
        "# Tokenizing words\n",
        "\n",
        "# max word length\n",
        "maxlen = 50\n",
        "# take top 10k words only\n",
        "max_words = 10000\n",
        "\n",
        "tokenizer = Tokenizer(num_words=max_words)\n",
        "tokenizer.fit_on_texts(texts)\n",
        "\n",
        "sequences = tokenizer.texts_to_sequences(texts)\n",
        "word_index = tokenizer.word_index\n",
        "\n",
        "print('Found %s unique tokens'%len(word_index))\n",
        "\n",
        "# padding the sequences\n",
        "data = pad_sequences(sequences, maxlen=maxlen)\n",
        "\n",
        "labels = np.array(labels)\n",
        "\n",
        "print('Shape of data tensor:', data.shape)\n",
        "print('Shape of labels tensor:', labels.shape)\n",
        "\n",
        "# shuffle the data\n",
        "indices = np.arange(data.shape[0])\n",
        "np.random.shuffle(indices)\n",
        "data = data[indices]\n",
        "labels = labels[indices]"
      ],
      "execution_count": 76,
      "outputs": [
        {
          "output_type": "stream",
          "text": [
            "Found 18905 unique tokens\n",
            "Shape of data tensor: (15570, 50)\n",
            "Shape of labels tensor: (15570,)\n"
          ],
          "name": "stdout"
        }
      ]
    },
    {
      "metadata": {
        "id": "SkTxLGUIjfCT",
        "colab_type": "text"
      },
      "cell_type": "markdown",
      "source": [
        "## Loading the pre-trained word embeddings"
      ]
    },
    {
      "metadata": {
        "id": "7PJQZ5X7b2ob",
        "colab_type": "code",
        "outputId": "03490612-0147-48ee-fefc-388eff826f40",
        "colab": {
          "base_uri": "https://localhost:8080/",
          "height": 272
        }
      },
      "cell_type": "code",
      "source": [
        "# due to small size of dataset\n",
        "# we would use standford's GloVe pre-trained word embeddings\n",
        "\n",
        "# download the GloVe word embeddings\n",
        "!wget http://nlp.stanford.edu/data/glove.6B.zip"
      ],
      "execution_count": 18,
      "outputs": [
        {
          "output_type": "stream",
          "text": [
            "--2019-04-12 00:30:17--  http://nlp.stanford.edu/data/glove.6B.zip\n",
            "Resolving nlp.stanford.edu (nlp.stanford.edu)... 171.64.67.140\n",
            "Connecting to nlp.stanford.edu (nlp.stanford.edu)|171.64.67.140|:80... connected.\n",
            "HTTP request sent, awaiting response... 302 Found\n",
            "Location: https://nlp.stanford.edu/data/glove.6B.zip [following]\n",
            "--2019-04-12 00:30:17--  https://nlp.stanford.edu/data/glove.6B.zip\n",
            "Connecting to nlp.stanford.edu (nlp.stanford.edu)|171.64.67.140|:443... connected.\n",
            "HTTP request sent, awaiting response... 200 OK\n",
            "Length: 862182613 (822M) [application/zip]\n",
            "Saving to: ‘glove.6B.zip’\n",
            "\n",
            "glove.6B.zip        100%[===================>] 822.24M  12.3MB/s    in 47s     \n",
            "\n",
            "2019-04-12 00:31:04 (17.5 MB/s) - ‘glove.6B.zip’ saved [862182613/862182613]\n",
            "\n"
          ],
          "name": "stdout"
        }
      ]
    },
    {
      "metadata": {
        "id": "S0Lz9kozd8pi",
        "colab_type": "code",
        "outputId": "c98c0014-d204-48ec-ec4e-a44acb90439b",
        "colab": {
          "base_uri": "https://localhost:8080/",
          "height": 102
        }
      },
      "cell_type": "code",
      "source": [
        "!unzip glove.6B.zip"
      ],
      "execution_count": 19,
      "outputs": [
        {
          "output_type": "stream",
          "text": [
            "Archive:  glove.6B.zip\n",
            "  inflating: glove.6B.50d.txt        \n",
            "  inflating: glove.6B.100d.txt       \n",
            "  inflating: glove.6B.200d.txt       \n",
            "  inflating: glove.6B.300d.txt       \n"
          ],
          "name": "stdout"
        }
      ]
    },
    {
      "metadata": {
        "id": "BMfHQTVufJ_Q",
        "colab_type": "code",
        "outputId": "b3c21748-8be4-4c4e-e0b8-67117b3f5957",
        "colab": {
          "base_uri": "https://localhost:8080/",
          "height": 34
        }
      },
      "cell_type": "code",
      "source": [
        "# parsing the GloVe word-embeddings file\n",
        "embeddings_index = {}\n",
        "\n",
        "f = open('glove.6B.100d.txt')\n",
        "for line in f:\n",
        "    values = line.split()\n",
        "    word = values[0]\n",
        "    coeffs = np.asarray(values[1:], dtype='float32')\n",
        "    embeddings_index[word] = coeffs\n",
        "f.close()\n",
        "\n",
        "print(len(embeddings_index))"
      ],
      "execution_count": 73,
      "outputs": [
        {
          "output_type": "stream",
          "text": [
            "400000\n"
          ],
          "name": "stdout"
        }
      ]
    },
    {
      "metadata": {
        "id": "1NOxd1l-gWab",
        "colab_type": "code",
        "colab": {}
      },
      "cell_type": "code",
      "source": [
        "# preparing glove word embeddings matrix\n",
        "embedding_dim = 100\n",
        "\n",
        "embedding_matrix = np.zeros((max_words, embedding_dim))\n",
        "for word, i in word_index.items():\n",
        "    if i<max_words:\n",
        "        embedding_vector = embeddings_index.get(word)\n",
        "    if embedding_vector is not None:\n",
        "        embedding_matrix[i] = embedding_vector # for words not in embedding index values will be zeros"
      ],
      "execution_count": 0,
      "outputs": []
    },
    {
      "metadata": {
        "id": "wTALqn1ajpIc",
        "colab_type": "text"
      },
      "cell_type": "markdown",
      "source": [
        "## Building the model"
      ]
    },
    {
      "metadata": {
        "id": "q-DSOWs8j1v7",
        "colab_type": "text"
      },
      "cell_type": "markdown",
      "source": [
        "### 1. Simple feed-forward network with dense layers on top of embedding layer --- using GloVe pre-trained word embeddings"
      ]
    },
    {
      "metadata": {
        "id": "6joc1J_6jOjo",
        "colab_type": "code",
        "outputId": "b01e8317-4ec2-4275-80d6-4c075b94e583",
        "colab": {
          "base_uri": "https://localhost:8080/",
          "height": 306
        }
      },
      "cell_type": "code",
      "source": [
        "from keras.models import Sequential\n",
        "from keras.layers import Embedding, Flatten, Dense, Dropout\n",
        "from keras.optimizers import RMSprop\n",
        "\n",
        "\n",
        "model = Sequential()\n",
        "model.add(Embedding(max_words, embedding_dim, input_length=maxlen))\n",
        "model.add(Flatten())\n",
        "\n",
        "model.add(Dense(64, activation='relu'))\n",
        "model.add(Dropout(0.3))\n",
        "\n",
        "model.add(Dense(1, activation='sigmoid'))\n",
        "model.summary()"
      ],
      "execution_count": 77,
      "outputs": [
        {
          "output_type": "stream",
          "text": [
            "_________________________________________________________________\n",
            "Layer (type)                 Output Shape              Param #   \n",
            "=================================================================\n",
            "embedding_21 (Embedding)     (None, 50, 100)           1000000   \n",
            "_________________________________________________________________\n",
            "flatten_14 (Flatten)         (None, 5000)              0         \n",
            "_________________________________________________________________\n",
            "dense_19 (Dense)             (None, 64)                320064    \n",
            "_________________________________________________________________\n",
            "dropout_7 (Dropout)          (None, 64)                0         \n",
            "_________________________________________________________________\n",
            "dense_20 (Dense)             (None, 1)                 65        \n",
            "=================================================================\n",
            "Total params: 1,320,129\n",
            "Trainable params: 1,320,129\n",
            "Non-trainable params: 0\n",
            "_________________________________________________________________\n"
          ],
          "name": "stdout"
        }
      ]
    },
    {
      "metadata": {
        "id": "p9Ufn334Heno",
        "colab_type": "text"
      },
      "cell_type": "markdown",
      "source": [
        "### Load the pre-trained word embeddings into the embedding layer and freeze it"
      ]
    },
    {
      "metadata": {
        "id": "hYhx_OWXmlui",
        "colab_type": "code",
        "colab": {}
      },
      "cell_type": "code",
      "source": [
        "model.layers[0].set_weights([embedding_matrix])\n",
        "model.layers[0].trainable = False"
      ],
      "execution_count": 0,
      "outputs": []
    },
    {
      "metadata": {
        "id": "DWf4ExBpnFmM",
        "colab_type": "code",
        "outputId": "9a608c0a-97e2-4468-ed85-c5ac1722e6d1",
        "colab": {
          "base_uri": "https://localhost:8080/",
          "height": 734
        }
      },
      "cell_type": "code",
      "source": [
        "# train the model\n",
        "model.compile(optimizer=RMSprop(lr=1e-4), loss='binary_crossentropy', metrics = ['acc'])\n",
        "history = model.fit(data, labels, epochs=20, batch_size=32, validation_split=0.1)"
      ],
      "execution_count": 79,
      "outputs": [
        {
          "output_type": "stream",
          "text": [
            "Train on 14013 samples, validate on 1557 samples\n",
            "Epoch 1/20\n",
            "14013/14013 [==============================] - 4s 266us/step - loss: 0.6616 - acc: 0.6019 - val_loss: 0.6173 - val_acc: 0.6808\n",
            "Epoch 2/20\n",
            "14013/14013 [==============================] - 2s 173us/step - loss: 0.6004 - acc: 0.6782 - val_loss: 0.6144 - val_acc: 0.6769\n",
            "Epoch 3/20\n",
            "14013/14013 [==============================] - 2s 177us/step - loss: 0.5673 - acc: 0.7127 - val_loss: 0.6036 - val_acc: 0.6969\n",
            "Epoch 4/20\n",
            "14013/14013 [==============================] - 2s 177us/step - loss: 0.5429 - acc: 0.7317 - val_loss: 0.6022 - val_acc: 0.6911\n",
            "Epoch 5/20\n",
            "14013/14013 [==============================] - 3s 185us/step - loss: 0.5242 - acc: 0.7435 - val_loss: 0.6086 - val_acc: 0.6898\n",
            "Epoch 6/20\n",
            "14013/14013 [==============================] - 3s 181us/step - loss: 0.5050 - acc: 0.7589 - val_loss: 0.6061 - val_acc: 0.6936\n",
            "Epoch 7/20\n",
            "14013/14013 [==============================] - 3s 188us/step - loss: 0.4866 - acc: 0.7722 - val_loss: 0.6134 - val_acc: 0.6859\n",
            "Epoch 8/20\n",
            "14013/14013 [==============================] - 3s 192us/step - loss: 0.4673 - acc: 0.7861 - val_loss: 0.6161 - val_acc: 0.6821\n",
            "Epoch 9/20\n",
            "14013/14013 [==============================] - 3s 193us/step - loss: 0.4497 - acc: 0.7971 - val_loss: 0.6225 - val_acc: 0.6834\n",
            "Epoch 10/20\n",
            "14013/14013 [==============================] - 3s 182us/step - loss: 0.4343 - acc: 0.8060 - val_loss: 0.6332 - val_acc: 0.6782\n",
            "Epoch 11/20\n",
            "14013/14013 [==============================] - 3s 187us/step - loss: 0.4182 - acc: 0.8178 - val_loss: 0.6455 - val_acc: 0.6609\n",
            "Epoch 12/20\n",
            "14013/14013 [==============================] - 3s 182us/step - loss: 0.4016 - acc: 0.8303 - val_loss: 0.6455 - val_acc: 0.6750\n",
            "Epoch 13/20\n",
            "14013/14013 [==============================] - 2s 177us/step - loss: 0.3836 - acc: 0.8381 - val_loss: 0.6492 - val_acc: 0.6686\n",
            "Epoch 14/20\n",
            "14013/14013 [==============================] - 3s 180us/step - loss: 0.3696 - acc: 0.8519 - val_loss: 0.6574 - val_acc: 0.6789\n",
            "Epoch 15/20\n",
            "14013/14013 [==============================] - 3s 182us/step - loss: 0.3567 - acc: 0.8552 - val_loss: 0.6643 - val_acc: 0.6673\n",
            "Epoch 16/20\n",
            "14013/14013 [==============================] - 3s 183us/step - loss: 0.3386 - acc: 0.8685 - val_loss: 0.6824 - val_acc: 0.6628\n",
            "Epoch 17/20\n",
            "14013/14013 [==============================] - 3s 184us/step - loss: 0.3265 - acc: 0.8769 - val_loss: 0.6830 - val_acc: 0.6692\n",
            "Epoch 18/20\n",
            "14013/14013 [==============================] - 3s 188us/step - loss: 0.3114 - acc: 0.8833 - val_loss: 0.6925 - val_acc: 0.6622\n",
            "Epoch 19/20\n",
            "14013/14013 [==============================] - 3s 188us/step - loss: 0.2994 - acc: 0.8900 - val_loss: 0.7116 - val_acc: 0.6660\n",
            "Epoch 20/20\n",
            "14013/14013 [==============================] - 3s 188us/step - loss: 0.2861 - acc: 0.8995 - val_loss: 0.7163 - val_acc: 0.6615\n"
          ],
          "name": "stdout"
        }
      ]
    },
    {
      "metadata": {
        "id": "gggQJYaPn2kP",
        "colab_type": "code",
        "outputId": "7bc91d50-cb5c-4e09-d757-ee49cc92edbb",
        "colab": {
          "base_uri": "https://localhost:8080/",
          "height": 545
        }
      },
      "cell_type": "code",
      "source": [
        "# plotting the results\n",
        "\n",
        "import matplotlib.pyplot as plt\n",
        "%matplotlib inline\n",
        "\n",
        "def plot_result(history):\n",
        "  acc = history.history['acc']\n",
        "  val_acc = history.history['val_acc']\n",
        "  loss = history.history['loss']\n",
        "  val_loss = history.history['val_loss']\n",
        "\n",
        "  epochs = range(1, len(acc)+1)\n",
        "\n",
        "  plt.plot(epochs, acc, label='Training acc')\n",
        "  plt.plot(epochs, val_acc, label='Validation acc')\n",
        "  plt.title('Training and validation accuracy')\n",
        "  plt.legend()\n",
        "\n",
        "  plt.figure()\n",
        "\n",
        "  plt.plot(epochs, loss, label='Training loss')\n",
        "  plt.plot(epochs, val_loss, label='Validation loss')\n",
        "  plt.title('Training and validation loss')\n",
        "  plt.legend()\n",
        "\n",
        "  plt.show()\n",
        "\n",
        "plot_result(history)"
      ],
      "execution_count": 80,
      "outputs": [
        {
          "output_type": "display_data",
          "data": {
            "image/png": "[encoded data removed]",
            "text/plain": [
              "<Figure size 432x288 with 1 Axes>"
            ]
          },
          "metadata": {
            "tags": []
          }
        },
        {
          "output_type": "display_data",
          "data": {
            "image/png": "[encoded data removed]",
            "text/plain": [
              "<Figure size 432x288 with 1 Axes>"
            ]
          },
          "metadata": {
            "tags": []
          }
        }
      ]
    },
    {
      "metadata": {
        "id": "67BbnL8pIGc0",
        "colab_type": "code",
        "colab": {}
      },
      "cell_type": "code",
      "source": [
        ""
      ],
      "execution_count": 0,
      "outputs": []
    }
  ]
}